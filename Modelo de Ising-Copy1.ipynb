{
 "cells": [
  {
   "cell_type": "code",
   "execution_count": 274,
   "metadata": {},
   "outputs": [],
   "source": [
    "import numpy as np \n",
    "import random\n",
    "import pandas as pd\n",
    "import matplotlib.pyplot as plt"
   ]
  },
  {
   "cell_type": "markdown",
   "metadata": {},
   "source": [
    "## 3.1 Armado de la red y cálculo de la energía del sistema\n",
    "Consideren una red cuadrada de $N\\times  N$, con $N^2$ el número de átomos que componen al sistema. "
   ]
  },
  {
   "cell_type": "code",
   "execution_count": 429,
   "metadata": {},
   "outputs": [],
   "source": [
    "def Malla(N): #tamaño de cada lado de la red\n",
    "    Red = []\n",
    "    #Definimos lista de ceros\n",
    "    for i in range(N**2):\n",
    "        c = random.choice([-1,1])\n",
    "        Red.extend([c])\n",
    "    return Red"
   ]
  },
  {
   "cell_type": "code",
   "execution_count": 430,
   "metadata": {},
   "outputs": [],
   "source": [
    "Red = Malla(3)"
   ]
  },
  {
   "cell_type": "code",
   "execution_count": 431,
   "metadata": {},
   "outputs": [
    {
     "data": {
      "text/plain": [
       "[1, 1, -1, 1, 1, 1, -1, 1, 1]"
      ]
     },
     "execution_count": 431,
     "metadata": {},
     "output_type": "execute_result"
    }
   ],
   "source": [
    "Red"
   ]
  },
  {
   "cell_type": "code",
   "execution_count": 244,
   "metadata": {},
   "outputs": [
    {
     "data": {
      "text/plain": [
       "9"
      ]
     },
     "execution_count": 244,
     "metadata": {},
     "output_type": "execute_result"
    }
   ],
   "source": [
    "len(Red)"
   ]
  },
  {
   "cell_type": "markdown",
   "metadata": {},
   "source": [
    "Generen una lista con los primeros vecinos de cada sitio implementando condiciones periódicas a la frontera (lo cual es equivalente a transformar al plano en un toro). De esta forma, todos los sitios de la red tienen 4 vecinos."
   ]
  },
  {
   "cell_type": "code",
   "execution_count": 322,
   "metadata": {},
   "outputs": [],
   "source": [
    "def vecinos(N): #Vecinos\n",
    "    v = np.zeros((N**2, 4), dtype=int)\n",
    "    #Neighbor.site: W/ D (up, right,  down, left)\n",
    "    for j in range(0,N**2):\n",
    "    #up\n",
    "        if (j + N) <= N**2-1:\n",
    "            v[j][0] = j+N+1\n",
    "        else:\n",
    "            v[j][0] = j-N*(N-1)+1\n",
    "    #right\n",
    "        if (j+1) % N != 0:\n",
    "            v[j][1] = j+2\n",
    "        else:\n",
    "            v[j][1] = j-N+2\n",
    "    #down\n",
    "        if  (j - N+1) >= 1:\n",
    "            v[j][2] = j-N+1\n",
    "        else:\n",
    "            v[j][2] = j + N*(N-1)+1\n",
    "    #left    \n",
    "        if j%N != 0:\n",
    "            v[j][3] = j\n",
    "        else:\n",
    "            v[j][3] = j+N\n",
    "            \n",
    "    return v"
   ]
  },
  {
   "cell_type": "code",
   "execution_count": 425,
   "metadata": {},
   "outputs": [
    {
     "data": {
      "text/plain": [
       "array([[4, 2, 7, 3],\n",
       "       [5, 3, 8, 1],\n",
       "       [6, 1, 9, 2],\n",
       "       [7, 5, 1, 6],\n",
       "       [8, 6, 2, 4],\n",
       "       [9, 4, 3, 5],\n",
       "       [1, 8, 4, 9],\n",
       "       [2, 9, 5, 7],\n",
       "       [3, 7, 6, 8]])"
      ]
     },
     "execution_count": 425,
     "metadata": {},
     "output_type": "execute_result"
    }
   ],
   "source": [
    "vecinos(3)"
   ]
  },
  {
   "cell_type": "code",
   "execution_count": 426,
   "metadata": {},
   "outputs": [],
   "source": [
    "vec = vecinos(3)"
   ]
  },
  {
   "cell_type": "markdown",
   "metadata": {},
   "source": [
    "Ya que hayan hecho esto, calculen la energía de un par de conguraciones de espines y un valor de J.\n",
    "\n",
    "La energía del sistema si hacemos la aproximación a los primero 4 vecinos es:\n",
    "\n",
    "$$E=\\sum _{<i,j>}-Js_{i}s_{j}$$"
   ]
  },
  {
   "cell_type": "code",
   "execution_count": 389,
   "metadata": {},
   "outputs": [
    {
     "data": {
      "text/plain": [
       "9"
      ]
     },
     "execution_count": 389,
     "metadata": {},
     "output_type": "execute_result"
    }
   ],
   "source": [
    "Red = -np.ones((3**2,), dtype=int)\n",
    "len(Red)"
   ]
  },
  {
   "cell_type": "code",
   "execution_count": 442,
   "metadata": {},
   "outputs": [],
   "source": [
    "def Energia(Malla,vecinos,J):\n",
    "    E0 = 0\n",
    "    NxN = len(Malla)\n",
    "    for j in range(0,NxN):\n",
    "        for i in range(4): #Multiplicamos spin de la malla por sus vecinos\n",
    "            E0 += Malla[j]*Malla[int(vecinos[j][i]-1)]\n",
    "    return -J*E0"
   ]
  },
  {
   "cell_type": "code",
   "execution_count": 443,
   "metadata": {},
   "outputs": [
    {
     "data": {
      "text/plain": [
       "-2.0"
      ]
     },
     "execution_count": 443,
     "metadata": {},
     "output_type": "execute_result"
    }
   ],
   "source": [
    "Energia(Red,vec,0.5)\n"
   ]
  },
  {
   "cell_type": "code",
   "execution_count": 435,
   "metadata": {},
   "outputs": [],
   "source": [
    "def Energia_total(Malla,vecinos,J):\n",
    "    E_total = 0\n",
    "    NxN = len(Malla)\n",
    "    for j in range(0,NxN):\n",
    "        for i in range(4): #Multiplicamos spin de la malla por sus vecinos\n",
    "            E_total += -J*Malla[j]*Malla[int(vecinos[j][i]-1)]\n",
    "    return E_total"
   ]
  },
  {
   "cell_type": "code",
   "execution_count": 436,
   "metadata": {},
   "outputs": [
    {
     "data": {
      "text/plain": [
       "-2.0"
      ]
     },
     "execution_count": 436,
     "metadata": {},
     "output_type": "execute_result"
    }
   ],
   "source": [
    "Energia_total(Red,vec,0.5)"
   ]
  },
  {
   "cell_type": "markdown",
   "metadata": {},
   "source": [
    "### Magnetización"
   ]
  },
  {
   "cell_type": "code",
   "execution_count": 286,
   "metadata": {},
   "outputs": [],
   "source": [
    "def magnetizacion(Malla):\n",
    "    return sum(Malla)"
   ]
  },
  {
   "cell_type": "code",
   "execution_count": 287,
   "metadata": {},
   "outputs": [
    {
     "data": {
      "text/plain": [
       "-9"
      ]
     },
     "execution_count": 287,
     "metadata": {},
     "output_type": "execute_result"
    }
   ],
   "source": [
    "magnetizacion(Red)"
   ]
  },
  {
   "cell_type": "markdown",
   "metadata": {},
   "source": [
    "## 3.2 Cálculo de la temperatura crítica del sistema\n",
    "\n",
    "La cantidad que juega un papel fundamental en todo el análisis que hacemos es la temperatura crítica, $T_c$, que para el problema de Onsager se obtiene de resolver la siguiente ecuación trascendental:\n",
    "$$2\\tanh^2\\left(\\frac{2J}{K_B T_c}\\right)=1$$\n",
    "Donde $k_\\beta=1.380649\\times 10^{-23}J/K$\n",
    "\n",
    "Para esto utilizamos el algoritmo de newton:\n"
   ]
  },
  {
   "cell_type": "code",
   "execution_count": 468,
   "metadata": {},
   "outputs": [
    {
     "name": "stderr",
     "output_type": "stream",
     "text": [
      "<ipython-input-468-d159f387be92>:5: RuntimeWarning: divide by zero encountered in true_divide\n",
      "  f = 2*((np.tanh((2*J)/(k_β*T_c)))**2)-1\n"
     ]
    },
    {
     "data": {
      "image/png": "[encoded data removed]",
      "text/plain": [
       "<Figure size 432x288 with 1 Axes>"
      ]
     },
     "metadata": {
      "needs_background": "light"
     },
     "output_type": "display_data"
    }
   ],
   "source": [
    "k_β = 1\n",
    "J = 0.5\n",
    "x = np.linspace(0,20,100)\n",
    "#f = x**3 + 4*(x**2) - 10\n",
    "f = 2*((np.tanh((2*J)/(k_β*T_c)))**2)-1\n",
    "plt.plot(T_c,f) #To plot\n",
    "plt.show()"
   ]
  },
  {
   "cell_type": "code",
   "execution_count": 289,
   "metadata": {},
   "outputs": [
    {
     "name": "stdout",
     "output_type": "stream",
     "text": [
      "La temperatura crítica es: T_c=1.13459266\n"
     ]
    }
   ],
   "source": [
    "from scipy.optimize import fsolve\n",
    "k_β = 1\n",
    "J = 0.5\n",
    "f = lambda T_c: 2*(np.tanh((2*J)/(k_β*T_c)))**2-1\n",
    "\n",
    "sol= fsolve(f, [0.1, 10])\n",
    "sol\n",
    "print(\"La temperatura crítica es: T_c=1.13459266\")"
   ]
  },
  {
   "cell_type": "markdown",
   "metadata": {},
   "source": [
    "## 3.3. Evolución y termalización del sistema\n",
    "\n",
    "En física estadística, el objeto de mayor interés y a partir del cual se obtienen la ecuación de estado y todas las cantidades observables es la función de partición Z, que en el ensamble canónico tiene la siguiente forma:\n",
    "$$Z =\\sum_C e^{\\beta E(C)},$$\n",
    "donde la suma corre sobre todas las posibles conguraciones C que pueden tener los átomos en la red y $\\beta=K_B T$ es la beta térmica. Para ejemplicar lo absurdo que sería calcular la función de partición por fuerza bruta, dado un valor para $\\beta > 0$, calculen la función de partición para redes de lado $N =[2, 3, 4, 5]$ y tomen el tiempo que se lleva en hacer el cálculo. ¿Qué tanto difieren los tiempos a medida que aumenta el tamaño de la red?"
   ]
  },
  {
   "cell_type": "code",
   "execution_count": 484,
   "metadata": {},
   "outputs": [],
   "source": [
    "def Termalizacion(kt,espines, nb, J, h):\n",
    "    N = int(np.sqrt(len(espines))) #Magnitud de un lado de la re\n",
    "    espines_inicial = copy(espines)\n",
    "    enfinc = [] #Arreglo en el que pondré la energía\n",
    "    magnefinc = [] #Arreglo en el que pondré la magnetización\n",
    "    flip =[]\n",
    "    flips_contador = 0\n",
    "    lista = vecinos(N) #Vecinos de cada partícula\n",
    "    for k in range(0,nb): #número de barridos\n",
    "        energias = []\n",
    "        magne = []\n",
    "        for j in range(0,N**2-1):\n",
    "            for i in range(4):\n",
    "                dE = 2*J*espines[j]*Red[int(lista[j][i]-1)+h] #Evolucion del sistema de acuerdo al algoritmo de metropolis montecarlo\n",
    "                pob = np.exp(-dE/kt)\n",
    "                if (dE<0) & (pob>np.random.rand()):\n",
    "                    espines[j] = -espines[j] #Se cambia el espín\n",
    "                    flips_contador +=1\n",
    "            en = Energia(espines,lista,J)\n",
    "            m = sum(espines)\n",
    "            energias.append([en])\n",
    "            magne.append([m])\n",
    "        enfinc.append([energias])\n",
    "        magnefinc.append([np.abs(magne)])\n",
    "    return enfinc, magnefinc, flip"
   ]
  },
  {
   "cell_type": "code",
   "execution_count": 489,
   "metadata": {},
   "outputs": [],
   "source": []
  },
  {
   "cell_type": "code",
   "execution_count": null,
   "metadata": {},
   "outputs": [],
   "source": []
  },
  {
   "cell_type": "code",
   "execution_count": 466,
   "metadata": {},
   "outputs": [
    {
     "data": {
      "text/plain": [
       "-1"
      ]
     },
     "execution_count": 466,
     "metadata": {},
     "output_type": "execute_result"
    }
   ],
   "source": [
    "N = 3\n",
    "lista = vecinos(N)\n",
    "j=0\n",
    "i=1\n",
    "Red[int(lista[j][i])-1]"
   ]
  },
  {
   "cell_type": "code",
   "execution_count": 458,
   "metadata": {},
   "outputs": [
    {
     "data": {
      "text/plain": [
       "[-1, -1, -1, 1, 1, 1, 1, 1, 1]"
      ]
     },
     "execution_count": 458,
     "metadata": {},
     "output_type": "execute_result"
    }
   ],
   "source": [
    "Red\n"
   ]
  },
  {
   "cell_type": "code",
   "execution_count": 459,
   "metadata": {},
   "outputs": [
    {
     "data": {
      "text/plain": [
       "array([[4, 2, 7, 3],\n",
       "       [5, 3, 8, 1],\n",
       "       [6, 1, 9, 2],\n",
       "       [7, 5, 1, 6],\n",
       "       [8, 6, 2, 4],\n",
       "       [9, 4, 3, 5],\n",
       "       [1, 8, 4, 9],\n",
       "       [2, 9, 5, 7],\n",
       "       [3, 7, 6, 8]])"
      ]
     },
     "execution_count": 459,
     "metadata": {},
     "output_type": "execute_result"
    }
   ],
   "source": [
    "lista"
   ]
  },
  {
   "cell_type": "code",
   "execution_count": 454,
   "metadata": {},
   "outputs": [
    {
     "ename": "TypeError",
     "evalue": "'float' object is not iterable",
     "output_type": "error",
     "traceback": [
      "\u001b[1;31m---------------------------------------------------------------------------\u001b[0m",
      "\u001b[1;31mTypeError\u001b[0m                                 Traceback (most recent call last)",
      "\u001b[1;32m<ipython-input-454-8eff8b67d50f>\u001b[0m in \u001b[0;36m<module>\u001b[1;34m\u001b[0m\n\u001b[0;32m      5\u001b[0m     \u001b[1;32mfor\u001b[0m \u001b[0mi\u001b[0m \u001b[1;32min\u001b[0m \u001b[0mrange\u001b[0m\u001b[1;33m(\u001b[0m\u001b[1;36m4\u001b[0m\u001b[1;33m)\u001b[0m\u001b[1;33m:\u001b[0m\u001b[1;33m\u001b[0m\u001b[1;33m\u001b[0m\u001b[0m\n\u001b[0;32m      6\u001b[0m         \u001b[0mdE\u001b[0m \u001b[1;33m=\u001b[0m \u001b[1;36m2\u001b[0m\u001b[1;33m*\u001b[0m\u001b[0mJ\u001b[0m\u001b[1;33m*\u001b[0m\u001b[0mRed\u001b[0m\u001b[1;33m[\u001b[0m\u001b[0mj\u001b[0m\u001b[1;33m]\u001b[0m\u001b[1;33m*\u001b[0m\u001b[0mRed\u001b[0m\u001b[1;33m[\u001b[0m\u001b[0mint\u001b[0m\u001b[1;33m(\u001b[0m\u001b[0mlista\u001b[0m\u001b[1;33m[\u001b[0m\u001b[0mj\u001b[0m\u001b[1;33m]\u001b[0m\u001b[1;33m[\u001b[0m\u001b[0mi\u001b[0m\u001b[1;33m]\u001b[0m\u001b[1;33m-\u001b[0m\u001b[1;36m1\u001b[0m\u001b[1;33m)\u001b[0m\u001b[1;33m]\u001b[0m\u001b[1;33m\u001b[0m\u001b[1;33m\u001b[0m\u001b[0m\n\u001b[1;32m----> 7\u001b[1;33m         \u001b[0mE\u001b[0m \u001b[1;33m+=\u001b[0m \u001b[0mdE\u001b[0m\u001b[1;33m\u001b[0m\u001b[1;33m\u001b[0m\u001b[0m\n\u001b[0m\u001b[0;32m      8\u001b[0m \u001b[0mprint\u001b[0m\u001b[1;33m(\u001b[0m\u001b[0mRed\u001b[0m\u001b[1;33m)\u001b[0m\u001b[1;33m\u001b[0m\u001b[1;33m\u001b[0m\u001b[0m\n\u001b[0;32m      9\u001b[0m \u001b[0mprint\u001b[0m\u001b[1;33m(\u001b[0m\u001b[0mE\u001b[0m\u001b[1;33m)\u001b[0m\u001b[1;33m\u001b[0m\u001b[1;33m\u001b[0m\u001b[0m\n",
      "\u001b[1;31mTypeError\u001b[0m: 'float' object is not iterable"
     ]
    }
   ],
   "source": [
    "N = 3\n",
    "lista = vecinos(N)\n",
    "E =[]\n",
    "for j in range(0,N**2-1):\n",
    "    for i in range(4):\n",
    "        dE = 2*J*Red[j]*Red[int(lista[j][i]-1)]\n",
    "        E += dE\n",
    "print(Red)\n",
    "print(E)"
   ]
  },
  {
   "cell_type": "code",
   "execution_count": 455,
   "metadata": {},
   "outputs": [
    {
     "data": {
      "text/plain": [
       "array([3, 7, 6, 8])"
      ]
     },
     "execution_count": 455,
     "metadata": {},
     "output_type": "execute_result"
    }
   ],
   "source": [
    "lista = vecinos(3)\n",
    "lista[N**2-1]"
   ]
  },
  {
   "cell_type": "code",
   "execution_count": 444,
   "metadata": {},
   "outputs": [
    {
     "data": {
      "text/plain": [
       "-2.0"
      ]
     },
     "execution_count": 444,
     "metadata": {},
     "output_type": "execute_result"
    }
   ],
   "source": [
    "Energia(Red, lista,0.5)"
   ]
  },
  {
   "cell_type": "code",
   "execution_count": 488,
   "metadata": {},
   "outputs": [
    {
     "data": {
      "text/plain": [
       "[]"
      ]
     },
     "execution_count": 488,
     "metadata": {},
     "output_type": "execute_result"
    }
   ],
   "source": [
    "energy, magnetizacion, flips = Termalizacion(2,Red, 10, 0.5, 0)\n",
    "flips"
   ]
  },
  {
   "cell_type": "code",
   "execution_count": 258,
   "metadata": {},
   "outputs": [],
   "source": [
    "#Red = Malla(3)\n",
    "#vec = vecinos(3)\n",
    "#NxN = len(Red)\n",
    "\n",
    "E0 = 0\n",
    "for j in range(0,NxN):\n",
    "    for i in range(0,4): #Multiplicamos spin de la malla por sus vecinos\n",
    "        E0 -= Red[j]*Red[int(vec[j][i]-1)]\n",
    "        \n",
    "E_j=0\n",
    "        \n",
    "for j in range(0, NxN):\n",
    "    Malla_prueba = np.copy(Red)\n",
    "    Malla_prueba[j] = -Red[j]\n",
    "    for i in range(0,4): #Multiplicamos spin de la malla por sus vecinos\n",
    "        E_j -= Malla_prueba[j]*Malla_prueba[int(vec[j][i]-1)]"
   ]
  },
  {
   "cell_type": "code",
   "execution_count": 241,
   "metadata": {},
   "outputs": [
    {
     "ename": "NameError",
     "evalue": "name 'numpy' is not defined",
     "output_type": "error",
     "traceback": [
      "\u001b[1;31m---------------------------------------------------------------------------\u001b[0m",
      "\u001b[1;31mNameError\u001b[0m                                 Traceback (most recent call last)",
      "\u001b[1;32m<ipython-input-241-0786ed9a6c80>\u001b[0m in \u001b[0;36m<module>\u001b[1;34m\u001b[0m\n\u001b[0;32m      1\u001b[0m \u001b[1;32mfor\u001b[0m \u001b[0mj\u001b[0m \u001b[1;32min\u001b[0m \u001b[0mrange\u001b[0m\u001b[1;33m(\u001b[0m\u001b[1;36m0\u001b[0m\u001b[1;33m,\u001b[0m \u001b[0mNxN\u001b[0m\u001b[1;33m)\u001b[0m\u001b[1;33m:\u001b[0m\u001b[1;33m\u001b[0m\u001b[1;33m\u001b[0m\u001b[0m\n\u001b[1;32m----> 2\u001b[1;33m     \u001b[0mMalla_prueba\u001b[0m \u001b[1;33m=\u001b[0m \u001b[0mnumpy\u001b[0m\u001b[1;33m.\u001b[0m\u001b[0mcopy\u001b[0m\u001b[1;33m(\u001b[0m\u001b[0mRed\u001b[0m\u001b[1;33m)\u001b[0m\u001b[1;33m\u001b[0m\u001b[1;33m\u001b[0m\u001b[0m\n\u001b[0m\u001b[0;32m      3\u001b[0m     \u001b[0mMalla_prueba\u001b[0m\u001b[1;33m[\u001b[0m\u001b[0mj\u001b[0m\u001b[1;33m]\u001b[0m\u001b[1;33m=\u001b[0m\u001b[1;33m-\u001b[0m\u001b[0mRed\u001b[0m\u001b[1;33m[\u001b[0m\u001b[0mj\u001b[0m\u001b[1;33m]\u001b[0m\u001b[1;33m\u001b[0m\u001b[1;33m\u001b[0m\u001b[0m\n",
      "\u001b[1;31mNameError\u001b[0m: name 'numpy' is not defined"
     ]
    }
   ],
   "source": [
    "\n",
    "    "
   ]
  },
  {
   "cell_type": "markdown",
   "metadata": {},
   "source": [
    "Una manera de sortear este problema es usando el algoritmo de Metrópolis con Montecarlo, que se centra en el cálculo de probabilidades de transición entre dos diferentes conguraciones (eliminando así la necesidad de la función de partición) y que tiene por objetivo generar una colección de conguraciones de espines que obedezcan la distribución del ensamble canónico. El problema con esto es que para varias iteraciones, el algoritmo produce conguraciones altamente correlacionadas entre sí y que por tanto no obedecen la distribución.\n",
    "\n",
    "$$\\frac{p(e_j)}{P(e_{j+1})}=\\frac{\\frac{e^{-\\beta \\vec{E}(e_i)}}{Z}}{\\frac{e^{-\\beta \\vec{E}(e_i)}}{Z}}\n",
    "=e^{-\\beta(E(e_i)-E(e_{j+1}))}$$\n",
    "\n"
   ]
  },
  {
   "cell_type": "code",
   "execution_count": null,
   "metadata": {},
   "outputs": [],
   "source": []
  },
  {
   "cell_type": "markdown",
   "metadata": {},
   "source": [
    " Una vez que echen a andar al algoritmo de Metrópolis para que una conguración inicial C0 evolucione a la conguración que minimiza la energía del sistema, deben termalizar el sistema, que consiste en aproximar cuál es el número adecuado de congu-\n",
    "raciones intermedias que deben descartar para juntar un conjunto de Q conguraciones $\\{C_1, C_2, ... , C_Q\\}$ tal que todas sean estadísticamente independientes entre sí y que son las que usaran para calcular las cantidades observables del sistema. Los detalles de cómo se hace esto están en el libro y los platicaremos con detalle."
   ]
  },
  {
   "cell_type": "code",
   "execution_count": 272,
   "metadata": {},
   "outputs": [
    {
     "ename": "TypeError",
     "evalue": "randint() takes at least 1 positional argument (0 given)",
     "output_type": "error",
     "traceback": [
      "\u001b[1;31m---------------------------------------------------------------------------\u001b[0m",
      "\u001b[1;31mTypeError\u001b[0m                                 Traceback (most recent call last)",
      "\u001b[1;32m<ipython-input-272-a4c29d86810b>\u001b[0m in \u001b[0;36m<module>\u001b[1;34m\u001b[0m\n\u001b[0;32m      3\u001b[0m \u001b[0mC_fria\u001b[0m\u001b[1;33m\u001b[0m\u001b[1;33m\u001b[0m\u001b[0m\n\u001b[0;32m      4\u001b[0m \u001b[1;33m\u001b[0m\u001b[0m\n\u001b[1;32m----> 5\u001b[1;33m \u001b[0mC_caliente\u001b[0m \u001b[1;33m=\u001b[0m \u001b[0mnp\u001b[0m\u001b[1;33m.\u001b[0m\u001b[0mrandom\u001b[0m\u001b[1;33m.\u001b[0m\u001b[0mrandint\u001b[0m\u001b[1;33m(\u001b[0m\u001b[0msize\u001b[0m\u001b[1;33m=\u001b[0m\u001b[1;33m(\u001b[0m\u001b[0mN\u001b[0m\u001b[1;33m,\u001b[0m \u001b[0mN\u001b[0m\u001b[1;33m)\u001b[0m\u001b[1;33m,\u001b[0m \u001b[0mdtype\u001b[0m\u001b[1;33m=\u001b[0m\u001b[0mint\u001b[0m\u001b[1;33m)\u001b[0m\u001b[1;33m\u001b[0m\u001b[1;33m\u001b[0m\u001b[0m\n\u001b[0m\u001b[0;32m      6\u001b[0m \u001b[0mC_caliente\u001b[0m\u001b[1;33m\u001b[0m\u001b[1;33m\u001b[0m\u001b[0m\n",
      "\u001b[1;32mmtrand.pyx\u001b[0m in \u001b[0;36mnumpy.random.mtrand.RandomState.randint\u001b[1;34m()\u001b[0m\n",
      "\u001b[1;31mTypeError\u001b[0m: randint() takes at least 1 positional argument (0 given)"
     ]
    }
   ],
   "source": [
    "N=3\n",
    "C_fria = -np.ones((N**2,), dtype=int)\n",
    "C_fria\n",
    "\n",
    "C_caliente = np.random.randint(size=(N, N), dtype=int)\n",
    "C_caliente"
   ]
  },
  {
   "cell_type": "markdown",
   "metadata": {},
   "source": [
    "**1. ¿Cuál es la distribución del ensamble canónico?, ¿para qué tipo de sistemas sirve?**\n",
    "\n"
   ]
  },
  {
   "cell_type": "code",
   "execution_count": null,
   "metadata": {},
   "outputs": [],
   "source": []
  },
  {
   "cell_type": "markdown",
   "metadata": {},
   "source": [
    "- https://ps.uci.edu/~cyu/p115A/LectureNotes/Lecture9/html_version/\n",
    "- https://estadistica-dma.ulpgc.es/FCC/05-3-Raices-de-Ecuaciones-2.html#metodo-de-la-secantehttps://estadistica-dma.ulpgc.es/FCC/05-3-Raices-de-Ecuaciones-2.html#metodo-de-la-secante\n",
    "- https://tereom.github.io/fundamentos/m%C3%A9todos-de-cadenas-de-markov-monte-carlo.html#m%C3%A9todo-de-metr%C3%B3polis"
   ]
  },
  {
   "cell_type": "code",
   "execution_count": null,
   "metadata": {},
   "outputs": [],
   "source": []
  }
 ],
 "metadata": {
  "kernelspec": {
   "display_name": "Python 3",
   "language": "python",
   "name": "python3"
  },
  "language_info": {
   "codemirror_mode": {
    "name": "ipython",
    "version": 3
   },
   "file_extension": ".py",
   "mimetype": "text/x-python",
   "name": "python",
   "nbconvert_exporter": "python",
   "pygments_lexer": "ipython3",
   "version": "3.8.5"
  }
 },
 "nbformat": 4,
 "nbformat_minor": 4
}
